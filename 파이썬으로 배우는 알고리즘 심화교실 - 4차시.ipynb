{
 "cells": [
  {
   "cell_type": "markdown",
   "id": "2d8dd860-f8a8-4819-901a-4b8415fc85f2",
   "metadata": {
    "tags": []
   },
   "source": [
    "<div style=\"padding: 15px; border: 5px solid transparent; border-color: transparent; margin-bottom: 20px; border-radius: 4px; color: #3c763d; background-color: #dff0d8; border-color: #d6e9c6; font-weight: bold;\">\n",
    "    <br><br>\n",
    "    <div style=\"font-weight: bold; font-size: 40px\">파이썬으로 배우는 알고리즘 심화교실</div>\n",
    "    <div style=\"font-weight: bold; font-size: 20px\">(4) 데이터를 관리하는 강력한 도구: 리스트</div>\n",
    "    <hr style=\"width:80%;text-align:left;margin-left:0;border:0.5px solid green\">\n",
    "    <br>\n",
    "    &#x2022; 파이썬의 리스트에 대해 이해한다.<br>\n",
    "    &#x2022; 파이썬에서 리스트에 사용할 수 잇는 다양한 함수를 이해한다.<br>\n",
    "    &#x2022; 숫자 야구 게임에서 입력된 정답 데이터들을 저장합니다. <br>\n",
    "</div>"
   ]
  },
  {
   "cell_type": "markdown",
   "id": "49c5bf94-8b07-4de2-87b5-92ce3989c1c1",
   "metadata": {
    "tags": []
   },
   "source": [
    "<div style=\"padding: 15px; border: 5px solid transparent; border-color: transparent; margin-bottom: 20px; border-radius: 4px; color: #3c763d; border-color: #d6e9c6; font-weight: bold;\">\n",
    "<h2 style='font-weight: bold'>1. 리스트</h2>\n",
    "</div> "
   ]
  },
  {
   "cell_type": "markdown",
   "id": "0f1c78d1-98cb-4620-95a0-91a092af58e0",
   "metadata": {
    "tags": []
   },
   "source": [
    "<div style=\"padding: 15px; border: 5px solid transparent; border-color: transparent; margin-bottom: 20px; border-radius: 4px; color: #3c763d; border-color: #d6e9c6; font-weight: bold;\">\n",
    "<h2 style='font-weight: bold'>2. 리스트 함수</h2>\n",
    "</div> "
   ]
  },
  {
   "cell_type": "markdown",
   "id": "71433973-fb20-4776-bce0-8e50cbc86601",
   "metadata": {
    "tags": []
   },
   "source": [
    "<div style=\"padding: 15px; border: 5px solid transparent; border-color: transparent; margin-bottom: 20px; border-radius: 4px; color: #3c763d; border-color: #d6e9c6; font-weight: bold;\">\n",
    "<h2 style='font-weight: bold'>프로젝트</h2>\n",
    "숫자 야구 게임에서 입력된 정답을 기록해봅시다.\n",
    "</div> "
   ]
  },
  {
   "cell_type": "code",
   "execution_count": 4,
   "id": "2bda128f-0129-45d1-b753-6791dc4b2db2",
   "metadata": {
    "error_code": "answer = \"369\"\n\nhistory = []\nresult = []\n\nprint(\"1번째 이닝입니다.(1/9)\")\nplayer = input(\"정답을 입력해주세요\")\nhistory.append(player)\nresult.append([1,1])\nprint(\"입력한 정답은 \", player, \" 입니다.\")\nprint(\"1 스트라이크, 1볼 입니다.\")\nprint(\"지금까지의 기록입니다 : \", history, result)\nprint(\"-\"*50)\n\nprint(\"2번째 이닝입니다.(2/9)\")\nplayer = input(\"정답을 입력해주세요\")\nhistory.append(player)\nresult.append([0,1])\nprint(\"입력한 정답은 \", player, \" 입니다.\")\nprint(\"0 스트라이크, 1볼 입니다.\")\nprint(\"지금까지의 기록입니다 : \", history, result)\nprint(\"-\"*50)\n\nprint(\"3번째 이닝입니다.(3/9)\")\nplayer = input(\"정답을 입력해주세요\")\nhistory.append(player)\nresult.append([0,0])\nprint(\"입력한 정답은 \", player, \" 입니다.\")\nprint(\"아웃입니다.\")\nprint(\"지금까지의 기록입니다 : \", history, result)",
    "tags": []
   },
   "outputs": [
    {
     "name": "stdout",
     "output_type": "stream",
     "text": [
      "1번째 이닝입니다.(1/9)\n"
     ]
    },
    {
     "name": "stdin",
     "output_type": "stream",
     "text": [
      "정답을 입력해주세요 323\n"
     ]
    },
    {
     "name": "stdout",
     "output_type": "stream",
     "text": [
      "입력한 정답은  323  입니다.\n",
      "1 스트라이크, 1볼 입니다.\n",
      "지금까지의 기록입니다 :  ['323'] [[1, 1]]\n",
      "--------------------------------------------------\n",
      "2번째 이닝입니다.(2/9)\n"
     ]
    },
    {
     "name": "stdin",
     "output_type": "stream",
     "text": [
      "정답을 입력해주세요 345\n"
     ]
    },
    {
     "name": "stdout",
     "output_type": "stream",
     "text": [
      "입력한 정답은  345  입니다.\n",
      "0 스트라이크, 1볼 입니다.\n",
      "지금까지의 기록입니다 :  ['323', '345'] [[1, 1], [0, 1]]\n",
      "--------------------------------------------------\n",
      "3번째 이닝입니다.(3/9)\n"
     ]
    },
    {
     "name": "stdin",
     "output_type": "stream",
     "text": [
      "정답을 입력해주세요 342\n"
     ]
    },
    {
     "name": "stdout",
     "output_type": "stream",
     "text": [
      "입력한 정답은  342  입니다.\n",
      "아웃입니다.\n",
      "지금까지의 기록입니다 :  ['323', '345', '342'] [[1, 1], [0, 1], [0, 0]]\n"
     ]
    }
   ],
   "source": [
    "answer = \"369\"\n",
    "\n",
    "history = []\n",
    "result = []\n",
    "\n",
    "print(\"1번째 이닝입니다.(1/9)\")\n",
    "player = input(\"정답을 입력해주세요\")\n",
    "history.append(player)\n",
    "result.append([1,1])\n",
    "print(\"입력한 정답은 \", player, \" 입니다.\")\n",
    "print(\"1 스트라이크, 1볼 입니다.\")\n",
    "print(\"지금까지의 기록입니다 : \", history, result)\n",
    "print(\"-\"*50)\n",
    "\n",
    "print(\"2번째 이닝입니다.(2/9)\")\n",
    "player = input(\"정답을 입력해주세요\")\n",
    "history.append(player)\n",
    "result.append([0,1])\n",
    "print(\"입력한 정답은 \", player, \" 입니다.\")\n",
    "print(\"0 스트라이크, 1볼 입니다.\")\n",
    "print(\"지금까지의 기록입니다 : \", history, result)\n",
    "print(\"-\"*50)\n",
    "\n",
    "print(\"3번째 이닝입니다.(3/9)\")\n",
    "player = input(\"정답을 입력해주세요\")\n",
    "history.append(player)\n",
    "result.append([0,0])\n",
    "print(\"입력한 정답은 \", player, \" 입니다.\")\n",
    "print(\"아웃입니다.\")\n",
    "print(\"지금까지의 기록입니다 : \", history, result)"
   ]
  }
 ],
 "metadata": {
  "kernelspec": {
   "display_name": "Python 3 (ipykernel)",
   "language": "python",
   "name": "python3"
  },
  "language_info": {
   "codemirror_mode": {
    "name": "ipython",
    "version": 3
   },
   "file_extension": ".py",
   "mimetype": "text/x-python",
   "name": "python",
   "nbconvert_exporter": "python",
   "pygments_lexer": "ipython3",
   "version": "3.10.12"
  }
 },
 "nbformat": 4,
 "nbformat_minor": 5
}
