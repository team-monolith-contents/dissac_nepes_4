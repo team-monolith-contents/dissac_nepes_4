{
 "cells": [
  {
   "cell_type": "markdown",
   "id": "2d8dd860-f8a8-4819-901a-4b8415fc85f2",
   "metadata": {
    "tags": []
   },
   "source": [
    "<div style=\"padding: 15px; border: 5px solid transparent; border-color: transparent; margin-bottom: 20px; border-radius: 4px; color: #3c763d; background-color: #dff0d8; border-color: #d6e9c6; font-weight: bold;\">\n",
    "    <br><br>\n",
    "    <div style=\"font-weight: bold; font-size: 40px\">파이썬으로 배우는 알고리즘 심화교실</div>\n",
    "    <div style=\"font-weight: bold; font-size: 20px\">(4) 데이터를 관리하는 강력한 도구: 리스트</div>\n",
    "    <hr style=\"width:80%;text-align:left;margin-left:0;border:0.5px solid green\">\n",
    "    <br>\n",
    "    &#x2022; 파이썬의 리스트에 대해 이해한다.<br>\n",
    "    &#x2022; 파이썬에서 리스트에 사용할 수 잇는 다양한 함수를 이해한다.<br>\n",
    "    &#x2022; 숫자 야구 게임에서 입력된 정답 데이터들을 저장합니다. <br>\n",
    "</div>"
   ]
  },
  {
   "cell_type": "markdown",
   "id": "49c5bf94-8b07-4de2-87b5-92ce3989c1c1",
   "metadata": {
    "tags": []
   },
   "source": [
    "<div style=\"padding: 15px; border: 5px solid transparent; border-color: transparent; margin-bottom: 20px; border-radius: 4px; color: #3c763d; border-color: #d6e9c6; font-weight: bold;\">\n",
    "<h2 style='font-weight: bold'>1. 리스트</h2>\n",
    "</div> "
   ]
  },
  {
   "cell_type": "markdown",
   "id": "2e239a85-fe9b-4b7b-9022-e5170987fb4b",
   "metadata": {},
   "source": [
    "<div style=\"padding: 15px; border: 5px solid transparent; border-color: transparent; margin-bottom: 20px; border-radius: 4px; color: #8a6d3b;  border-color: #faebcc;\">\n",
    "    <div style=\"font-weight: bold; font-size: 20px\">💯 연습문제를 풀어봅시다</div>\n",
    "    <br>\n",
    "\n",
    "</div>"
   ]
  },
  {
   "cell_type": "markdown",
   "id": "0f1c78d1-98cb-4620-95a0-91a092af58e0",
   "metadata": {
    "tags": []
   },
   "source": [
    "<div style=\"padding: 15px; border: 5px solid transparent; border-color: transparent; margin-bottom: 20px; border-radius: 4px; color: #3c763d; border-color: #d6e9c6; font-weight: bold;\">\n",
    "<h2 style='font-weight: bold'>2. 리스트 함수</h2>\n",
    "</div> "
   ]
  },
  {
   "cell_type": "markdown",
   "id": "b0ceef3d-22ee-46d9-abfd-5e1d5c6efed8",
   "metadata": {},
   "source": [
    "<div style=\"padding: 15px; border: 5px solid transparent; border-color: transparent; margin-bottom: 20px; border-radius: 4px; color: #8a6d3b;  border-color: #faebcc;\">\n",
    "    <div style=\"font-weight: bold; font-size: 20px\">💯 연습문제를 풀어봅시다</div>\n",
    "    <br>\n",
    "\n",
    "</div>"
   ]
  },
  {
   "cell_type": "markdown",
   "id": "71433973-fb20-4776-bce0-8e50cbc86601",
   "metadata": {
    "tags": []
   },
   "source": [
    "<div style=\"padding: 15px; border: 5px solid transparent; border-color: transparent; margin-bottom: 20px; border-radius: 4px; color: #3c763d; border-color: #d6e9c6; font-weight: bold;\">\n",
    "<h2 style='font-weight: bold'>프로젝트</h2>\n",
    "숫자 야구 게임에서 입력된 정답을 기록해봅시다.\n",
    "</div> "
   ]
  },
  {
   "cell_type": "markdown",
   "id": "994bda9e-961a-4852-83bc-d323ff75c26c",
   "metadata": {},
   "source": [
    "숫자 야구에서는 앞선 차례에서 받은 힌트를 기반으로 값을 예측합니다.<br>\n",
    "그래서 플레이어가 앞선 차례의 기록들을 확인할 수 있도록 하는 것은 중요합니다.<br>\n",
    "이번 시간에는 플레이어가 입력한 정답과 그 결과를 저장하는 시스템을 만드는 것을 목표로 합니다.<br>\n",
    "\n",
    "**목표:**\n",
    "플레이어가 입력한 값과 그 결과를 리스트로 저장한다.\n",
    "\n",
    "**참고사항:**\n",
    "- 결과(스트라이크, 볼)를 계산하는 코드는 아직 만들지 않았으니 임의로 결과를 저장합니다.\n",
    "- 결과가 제대로 저장되는 것을 확인하기 위해서 최소 3번의 입력을 받습니다.\n",
    "- 플레이어가 입력한 값은 history 리스트에 저장하고 결과는 result 리스트에 저장합니다.\n",
    "- 각 차례의 결과는 [Strike값, ball값]의 리스트로 저장합니다. ex) 1스트라이크 2볼 일 경우 [1,2] 로 저장\n",
    "\n",
    "<table>\n",
    "<tr>\n",
    "    <th>\n",
    "        <img src=\"https://tmn-bucket-materials-all.s3.ap-northeast-2.amazonaws.com/image/dissac/dissac_nepes_4_04_01.png\" width=\"750\"></th>\n",
    "<tr>\n",
    "    <th>프로젝트 목표</th>\n",
    "</tr>\n",
    "</table>"
   ]
  },
  {
   "cell_type": "code",
   "execution_count": null,
   "id": "256a58ee-f85f-48ab-b525-cc91b698f274",
   "metadata": {
    "error_code": "answer = \"369\"\n\nhistory = []\nresult = []\n\nprint(\"1번째 이닝입니다.(1/9)\")\nplayer = input(\"정답을 입력해주세요\")\nhistory.append(player)\nresult.append([1,1])\nprint(\"입력한 정답은 \", player, \" 입니다.\")\nprint(\"1 스트라이크, 1볼 입니다.\")\nprint(\"지금까지의 기록입니다 : \", history, result)\nprint(\"-\"*50)\n\nprint(\"2번째 이닝입니다.(2/9)\")\nplayer = input(\"정답을 입력해주세요\")\nhistory.append(player)\nresult.append([0,1])\nprint(\"입력한 정답은 \", player, \" 입니다.\")\nprint(\"0 스트라이크, 1볼 입니다.\")\nprint(\"지금까지의 기록입니다 : \", history, result)\nprint(\"-\"*50)\n\nprint(\"3번째 이닝입니다.(3/9)\")\nplayer = input(\"정답을 입력해주세요\")\nhistory.append(player)\nresult.append([0,0])\nprint(\"입력한 정답은 \", player, \" 입니다.\")\nprint(\"아웃입니다.\")\nprint(\"지금까지의 기록입니다 : \", history, result)",
    "tags": []
   },
   "outputs": [],
   "source": [
    "# 참고 코드\n",
    "\n",
    "print(\"1번째 이닝입니다.(1/9)\") # 이닝 안내 코드\n",
    "player = input(\"정답을 입력해주세요\") # 입력값 받아오기\n",
    "# TODO : history에 입력값 기록하기\n",
    "# TODO : result에 결과값 기록하기\n",
    "print(\"입력한 정답은 \", player, \" 입니다.\") # 입력값 출력하기\n",
    "print(\"1 스트라이크, 1볼 입니다.\") # 결과 출력하기(임의)\n",
    "# TODO : 지금까지의 결과 출력\n",
    "print(\"-\"*50) # 구분선"
   ]
  },
  {
   "cell_type": "code",
   "execution_count": null,
   "id": "2bda128f-0129-45d1-b753-6791dc4b2db2",
   "metadata": {
    "error_code": "answer = \"369\"\n\nhistory = []\nresult = []\n\nprint(\"1번째 이닝입니다.(1/9)\")\nplayer = input(\"정답을 입력해주세요\")\nhistory.append(player)\nresult.append([1,1])\nprint(\"입력한 정답은 \", player, \" 입니다.\")\nprint(\"1 스트라이크, 1볼 입니다.\")\nprint(\"지금까지의 기록입니다 : \", history, result)\nprint(\"-\"*50)\n\nprint(\"2번째 이닝입니다.(2/9)\")\nplayer = input(\"정답을 입력해주세요\")\nhistory.append(player)\nresult.append([0,1])\nprint(\"입력한 정답은 \", player, \" 입니다.\")\nprint(\"0 스트라이크, 1볼 입니다.\")\nprint(\"지금까지의 기록입니다 : \", history, result)\nprint(\"-\"*50)\n\nprint(\"3번째 이닝입니다.(3/9)\")\nplayer = input(\"정답을 입력해주세요\")\nhistory.append(player)\nresult.append([0,0])\nprint(\"입력한 정답은 \", player, \" 입니다.\")\nprint(\"아웃입니다.\")\nprint(\"지금까지의 기록입니다 : \", history, result)",
    "tags": []
   },
   "outputs": [],
   "source": [
    "# 정답코드\n",
    "answer = \"369\"\n",
    "\n",
    "history = []\n",
    "result = []\n",
    "\n",
    "print(\"1번째 이닝입니다.(1/9)\")\n",
    "player = input(\"정답을 입력해주세요\")\n",
    "history.append(player)\n",
    "result.append([1,1])\n",
    "print(\"입력한 정답은 \", player, \" 입니다.\")\n",
    "print(\"1 스트라이크, 1볼 입니다.\")\n",
    "print(\"지금까지의 기록입니다 : \", history, result)\n",
    "print(\"-\"*50)\n",
    "\n",
    "print(\"2번째 이닝입니다.(2/9)\")\n",
    "player = input(\"정답을 입력해주세요\")\n",
    "history.append(player)\n",
    "result.append([0,1])\n",
    "print(\"입력한 정답은 \", player, \" 입니다.\")\n",
    "print(\"0 스트라이크, 1볼 입니다.\")\n",
    "print(\"지금까지의 기록입니다 : \", history, result)\n",
    "print(\"-\"*50)\n",
    "\n",
    "print(\"3번째 이닝입니다.(3/9)\")\n",
    "player = input(\"정답을 입력해주세요\")\n",
    "history.append(player)\n",
    "result.append([0,0])\n",
    "print(\"입력한 정답은 \", player, \" 입니다.\")\n",
    "print(\"아웃입니다.\")\n",
    "print(\"지금까지의 기록입니다 : \", history, result)"
   ]
  }
 ],
 "metadata": {
  "kernelspec": {
   "display_name": "Python 3 (ipykernel)",
   "language": "python",
   "name": "python3"
  },
  "language_info": {
   "codemirror_mode": {
    "name": "ipython",
    "version": 3
   },
   "file_extension": ".py",
   "mimetype": "text/x-python",
   "name": "python",
   "nbconvert_exporter": "python",
   "pygments_lexer": "ipython3",
   "version": "3.10.12"
  }
 },
 "nbformat": 4,
 "nbformat_minor": 5
}
