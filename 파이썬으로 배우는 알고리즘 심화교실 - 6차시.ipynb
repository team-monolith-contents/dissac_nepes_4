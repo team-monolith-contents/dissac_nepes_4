{
 "cells": [
  {
   "cell_type": "markdown",
   "id": "2d8dd860-f8a8-4819-901a-4b8415fc85f2",
   "metadata": {
    "tags": []
   },
   "source": [
    "<div style=\"padding: 15px; border: 5px solid transparent; border-color: transparent; margin-bottom: 20px; border-radius: 4px; color: #3c763d; background-color: #dff0d8; border-color: #d6e9c6; font-weight: bold;\">\n",
    "    <br><br>\n",
    "    <div style=\"font-weight: bold; font-size: 40px\">파이썬으로 배우는 알고리즘 심화교실</div>\n",
    "    <div style=\"font-weight: bold; font-size: 20px\">(6) 반복해서 코드를 실행해보아요.</div>\n",
    "    <hr style=\"width:80%;text-align:left;margin-left:0;border:0.5px solid green\">\n",
    "    <br>\n",
    "    &#x2022; while을 이용한 반복문 코드를 작성할 수 있다.<br>\n",
    "    &#x2022; for을 이용한 반복문 코드를 작성할 수 있다.<br>\n",
    "    &#x2022; break, continue를 이용해 반복문 코드를 제어할 수 있다.<br>\n",
    "    &#x2022; 반복문과 조건문을 중첩해서 사용할 수 있다.<br>\n",
    "    &#x2022; 숫자 야구 게임의 이닝 시스템을 만든다.<br>\n",
    "</div>"
   ]
  },
  {
   "cell_type": "markdown",
   "id": "4967dba1-9a95-4640-baa8-2fa4484ab385",
   "metadata": {
    "tags": []
   },
   "source": [
    "<div style=\"padding: 15px; border: 5px solid transparent; border-color: transparent; margin-bottom: 20px; border-radius: 4px; color: #3c763d; border-color: #d6e9c6; font-weight: bold;\">\n",
    "<h2 style='font-weight: bold'>1. while 반복문 사용하기</h2>\n",
    "</div> "
   ]
  },
  {
   "cell_type": "markdown",
   "id": "9bf8fe28-7c4b-4bcd-9e91-c81b0f9e3ea0",
   "metadata": {
    "tags": []
   },
   "source": [
    "<div style=\"padding: 15px; border: 5px solid transparent; border-color: transparent; margin-bottom: 20px; border-radius: 4px; color: #3c763d; border-color: #d6e9c6; font-weight: bold;\">\n",
    "<h2 style='font-weight: bold'>2. for 반복문 사용하기</h2>\n",
    "</div> "
   ]
  },
  {
   "cell_type": "markdown",
   "id": "bdd5b6a3-bb58-471c-88ee-44b1e7da39a2",
   "metadata": {
    "tags": []
   },
   "source": [
    "<div style=\"padding: 15px; border: 5px solid transparent; border-color: transparent; margin-bottom: 20px; border-radius: 4px; color: #3c763d; border-color: #d6e9c6; font-weight: bold;\">\n",
    "<h2 style='font-weight: bold'>3. 반복문 코드 제어하기</h2>\n",
    "</div>"
   ]
  },
  {
   "cell_type": "markdown",
   "id": "b9a16514-cbf0-40d2-bf34-f6e1cad1f5ed",
   "metadata": {
    "tags": []
   },
   "source": [
    "<div style=\"padding: 15px; border: 5px solid transparent; border-color: transparent; margin-bottom: 20px; border-radius: 4px; color: #3c763d; border-color: #d6e9c6; font-weight: bold;\">\n",
    "<h2 style='font-weight: bold'>4. 반복문, 조건문 중첩해서 사용하기</h2>\n",
    "</div> "
   ]
  },
  {
   "cell_type": "markdown",
   "id": "71433973-fb20-4776-bce0-8e50cbc86601",
   "metadata": {
    "tags": []
   },
   "source": [
    "<div style=\"padding: 15px; border: 5px solid transparent; border-color: transparent; margin-bottom: 20px; border-radius: 4px; color: #3c763d; border-color: #d6e9c6; font-weight: bold;\">\n",
    "<h2 style='font-weight: bold'>프로젝트</h2>\n",
    "숫자 야구 게임의 이닝 시스템을 만들어봅시다.\n",
    "</div> "
   ]
  },
  {
   "cell_type": "code",
   "execution_count": 2,
   "id": "eedadee2-f412-472f-9245-178e3962cb93",
   "metadata": {
    "error_code": "answer = \"369\"\n\nhistory = []\nresult = []\n\nfor i in range(9):\n    print(i, \"번째 이닝입니다.(\",i,\"/9)\")\n    player = input(\"정답을 입력해주세요\")\n    print(\"입력한 정답은 \", player, \" 입니다.\")\n    history.append(player)\n\n    ### 볼, 스트라이크 판별\n    s = 0\n    b = 0\n    for j in len(player):\n        if player[j] == answer[j]:\n            s += 1\n        elif player[j] in answer:\n            b += 1\n    \n    result.append([s,b])\n\n    ### 정답, 아웃 판정\n    if s == 3:\n        print(\"정답입니다.\")\n        break\n    elif s == 0 and b == 0:\n        print(\"아웃입니다.\")\n    else:\n        print(s, \" 스트라이크, \", b,\" 볼 입니다.\")\n\n    print(\"지금까지의 기록입니다 : \", history, result)\n    print(\"-\"*50)",
    "tags": []
   },
   "outputs": [
    {
     "name": "stdout",
     "output_type": "stream",
     "text": [
      "0 번째 이닝입니다.( 0 /9)\n"
     ]
    },
    {
     "name": "stdin",
     "output_type": "stream",
     "text": [
      "정답을 입력해주세요 321\n"
     ]
    },
    {
     "name": "stdout",
     "output_type": "stream",
     "text": [
      "입력한 정답은  321  입니다.\n",
      "1  스트라이크,  0  볼 입니다.\n",
      "지금까지의 기록입니다 :  ['321'] [[1, 0]]\n",
      "--------------------------------------------------\n",
      "1 번째 이닝입니다.( 1 /9)\n"
     ]
    },
    {
     "name": "stdin",
     "output_type": "stream",
     "text": [
      "정답을 입력해주세요 345\n"
     ]
    },
    {
     "name": "stdout",
     "output_type": "stream",
     "text": [
      "입력한 정답은  345  입니다.\n",
      "1  스트라이크,  0  볼 입니다.\n",
      "지금까지의 기록입니다 :  ['321', '345'] [[1, 0], [1, 0]]\n",
      "--------------------------------------------------\n",
      "2 번째 이닝입니다.( 2 /9)\n"
     ]
    },
    {
     "name": "stdin",
     "output_type": "stream",
     "text": [
      "정답을 입력해주세요 305\n"
     ]
    },
    {
     "name": "stdout",
     "output_type": "stream",
     "text": [
      "입력한 정답은  305  입니다.\n",
      "1  스트라이크,  0  볼 입니다.\n",
      "지금까지의 기록입니다 :  ['321', '345', '305'] [[1, 0], [1, 0], [1, 0]]\n",
      "--------------------------------------------------\n",
      "3 번째 이닝입니다.( 3 /9)\n"
     ]
    },
    {
     "name": "stdin",
     "output_type": "stream",
     "text": [
      "정답을 입력해주세요 102\n"
     ]
    },
    {
     "name": "stdout",
     "output_type": "stream",
     "text": [
      "입력한 정답은  102  입니다.\n",
      "아웃입니다.\n",
      "지금까지의 기록입니다 :  ['321', '345', '305', '102'] [[1, 0], [1, 0], [1, 0], [0, 0]]\n",
      "--------------------------------------------------\n",
      "4 번째 이닝입니다.( 4 /9)\n"
     ]
    },
    {
     "name": "stdin",
     "output_type": "stream",
     "text": [
      "정답을 입력해주세요 958\n"
     ]
    },
    {
     "name": "stdout",
     "output_type": "stream",
     "text": [
      "입력한 정답은  958  입니다.\n",
      "0  스트라이크,  1  볼 입니다.\n",
      "지금까지의 기록입니다 :  ['321', '345', '305', '102', '958'] [[1, 0], [1, 0], [1, 0], [0, 0], [0, 1]]\n",
      "--------------------------------------------------\n",
      "5 번째 이닝입니다.( 5 /9)\n"
     ]
    },
    {
     "name": "stdin",
     "output_type": "stream",
     "text": [
      "정답을 입력해주세요 360\n"
     ]
    },
    {
     "name": "stdout",
     "output_type": "stream",
     "text": [
      "입력한 정답은  360  입니다.\n",
      "2  스트라이크,  0  볼 입니다.\n",
      "지금까지의 기록입니다 :  ['321', '345', '305', '102', '958', '360'] [[1, 0], [1, 0], [1, 0], [0, 0], [0, 1], [2, 0]]\n",
      "--------------------------------------------------\n",
      "6 번째 이닝입니다.( 6 /9)\n"
     ]
    },
    {
     "name": "stdin",
     "output_type": "stream",
     "text": [
      "정답을 입력해주세요 369\n"
     ]
    },
    {
     "name": "stdout",
     "output_type": "stream",
     "text": [
      "입력한 정답은  369  입니다.\n",
      "정답입니다.\n"
     ]
    }
   ],
   "source": [
    "answer = \"369\"\n",
    "\n",
    "history = []\n",
    "result = []\n",
    "\n",
    "for i in range(9):\n",
    "    print(i, \"번째 이닝입니다.(\",i,\"/9)\")\n",
    "    player = input(\"정답을 입력해주세요\")\n",
    "    print(\"입력한 정답은 \", player, \" 입니다.\")\n",
    "    history.append(player)\n",
    "\n",
    "    ### 볼, 스트라이크 판별\n",
    "    s = 0\n",
    "    b = 0\n",
    "    for j in range(len(player)):\n",
    "        if player[j] == answer[j]:\n",
    "            s += 1\n",
    "        elif player[j] in answer:\n",
    "            b += 1\n",
    "    \n",
    "    result.append([s,b])\n",
    "\n",
    "    ### 정답, 아웃 판정\n",
    "    if s == 3:\n",
    "        print(\"정답입니다.\")\n",
    "        break\n",
    "    elif s == 0 and b == 0:\n",
    "        print(\"아웃입니다.\")\n",
    "    else:\n",
    "        print(s, \" 스트라이크, \", b,\" 볼 입니다.\")\n",
    "\n",
    "    print(\"지금까지의 기록입니다 : \", history, result)\n",
    "    print(\"-\"*50)"
   ]
  }
 ],
 "metadata": {
  "kernelspec": {
   "display_name": "Python 3 (ipykernel)",
   "language": "python",
   "name": "python3"
  },
  "language_info": {
   "codemirror_mode": {
    "name": "ipython",
    "version": 3
   },
   "file_extension": ".py",
   "mimetype": "text/x-python",
   "name": "python",
   "nbconvert_exporter": "python",
   "pygments_lexer": "ipython3",
   "version": "3.10.12"
  }
 },
 "nbformat": 4,
 "nbformat_minor": 5
}
