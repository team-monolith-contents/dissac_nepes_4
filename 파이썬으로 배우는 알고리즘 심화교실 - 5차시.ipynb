{
 "cells": [
  {
   "cell_type": "markdown",
   "id": "2d8dd860-f8a8-4819-901a-4b8415fc85f2",
   "metadata": {
    "tags": []
   },
   "source": [
    "<div style=\"padding: 15px; border: 5px solid transparent; border-color: transparent; margin-bottom: 20px; border-radius: 4px; color: #3c763d; background-color: #dff0d8; border-color: #d6e9c6; font-weight: bold;\">\n",
    "    <br><br>\n",
    "    <div style=\"font-weight: bold; font-size: 40px\">파이썬으로 배우는 알고리즘 심화교실</div>\n",
    "    <div style=\"font-weight: bold; font-size: 20px\">(5) 데이터를 비교해보아요.</div>\n",
    "    <hr style=\"width:80%;text-align:left;margin-left:0;border:0.5px solid green\">\n",
    "    <br>\n",
    "    &#x2022; if 조건문을 활용해 특정조건을 만족했을 때에만 동작을 하는 코드를 작성할 수 있다.<br>\n",
    "    &#x2022; if-else 조건문을 활용해 조건에 따라 다른 동작을 하는 코드를 작성할 수 있다.<br>\n",
    "    &#x2022; if-elif-else 조건문을 활용해 여러가지 조건이 포함된 조건문을 사용할 수 있다.<br>\n",
    "    &#x2022; 숫자 야구 게임에서 볼, 스트라이크를 판정하는 시스템을 만든다.<br>\n",
    "</div>"
   ]
  },
  {
   "cell_type": "markdown",
   "id": "4967dba1-9a95-4640-baa8-2fa4484ab385",
   "metadata": {
    "jp-MarkdownHeadingCollapsed": true,
    "tags": []
   },
   "source": [
    "<div style=\"padding: 15px; border: 5px solid transparent; border-color: transparent; margin-bottom: 20px; border-radius: 4px; color: #3c763d; border-color: #d6e9c6; font-weight: bold;\">\n",
    "<h2 style='font-weight: bold'>1. if 조건문 사용하기</h2>\n",
    "</div> "
   ]
  },
  {
   "cell_type": "markdown",
   "id": "4ca61327-d9ed-4478-a55e-bb7e4b69882e",
   "metadata": {},
   "source": [
    "if 조건문은 if 라는 키워드를 사용합니다.<br>\n",
    "아래와 같은 형태를 가지고 있습니다.<br>\n",
    "\n",
    ">```python\n",
    ">if 조건:\n",
    ">    조건이 만족할 때 실행될 코드\n",
    ">```\n",
    "\n",
    "`조건` 부분에는 True(참) 혹은 False(거짓) 을 판별할 수 있는 표현식이 사용됩니다.<br>\n",
    "앞서 배웠던 비교연산자, 논리연산자들을 사용할 수 있습니다.<br>\n",
    "\n",
    "`조건이 만족할 때에 실행될 코드` 부분은 `조건`이 만족할 때에만 실행되는 코드입니다.<br>\n",
    "만약 `조건`이 만족하지 않는다면 조건이 만족할 때 실행될 코드는 실행되지 않고 넘어갑니다.<br>\n",
    "`조건이 만족할 떄에 실행될 코드`는 조건문 밖의 다른 코드들과 구분하기 위해서 들여쓰기를 해줍니다.<br>\n",
    "\n",
    "아래의 예시 코드들을 보면서 함께 익혀봅시다."
   ]
  },
  {
   "cell_type": "markdown",
   "id": "f8ec36c7-cb46-45fa-ab1c-50591af6dd38",
   "metadata": {},
   "source": [
    "<div style=\"padding: 15px; border: 5px solid transparent; border-color: transparent; margin-bottom: 20px; border-radius: 4px; color: #31708f; border-color: #bce8f1;\">\n",
    "    <div style=\"font-weight: bold; font-size: 20px\">📌 TIP</div>\n",
    "    &#x2022; 들여쓰기는 tab키를 한 번 누르거나 스페이스바를 4번 눌러 작성할 수 있습니다.\n",
    "</div>"
   ]
  },
  {
   "cell_type": "markdown",
   "id": "74e665ff-959f-41a5-a6c0-b271f601c3a3",
   "metadata": {},
   "source": [
    "**예제 1 : if문을 활용하여 n이 5일때만 출력하는 코드**"
   ]
  },
  {
   "cell_type": "code",
   "execution_count": null,
   "id": "a73ba071-3c41-4f87-967a-2336e88b3f0a",
   "metadata": {
    "tags": []
   },
   "outputs": [],
   "source": [
    "# 예제_1_if문을_활용하여_n이_5일때만_출력하는_코드\n",
    "\n",
    "n = int(input(\"숫자를 입력하세요\"))\n",
    "if n == 5:\n",
    "    print(\"n은 5 입니다!\")  # n이 5인 것이 참일 때 실행됩니다. "
   ]
  },
  {
   "cell_type": "markdown",
   "id": "0abd0bc7-ea1b-48ba-b187-95f88897bf03",
   "metadata": {},
   "source": [
    "**예제 2 : if문을 활용하여 n이 5일때만 출력하는 코드2**"
   ]
  },
  {
   "cell_type": "code",
   "execution_count": null,
   "id": "a82b3ed4-eaff-4e20-ad43-88674d3f3309",
   "metadata": {
    "tags": []
   },
   "outputs": [],
   "source": [
    "# 예제_2_if문을_활용하여_n이_5일때만_출력하는_코드2\n",
    "\n",
    "n = int(input(\"숫자를 입력하세요\"))\n",
    "if n == 5:\n",
    "    print(\"n은 5 입니다!\")\n",
    "print(\"코드가 끝났습니다.\") # n이 어떤 값이든 실행됩니다."
   ]
  },
  {
   "cell_type": "markdown",
   "id": "5812257f-99c8-4008-9014-ba9f037e5d77",
   "metadata": {},
   "source": [
    "**예제 3 : 잘못 사용된 if문**"
   ]
  },
  {
   "cell_type": "code",
   "execution_count": null,
   "id": "73f69f9f-713e-4d66-ac8b-2e5ffef8bb47",
   "metadata": {
    "error_code": "# 예제_3_잘못_사용된_if문\n\nn = int(input(\"숫자를 입력하세요\"))\nif n = 5: # if 뒤에 True 또는 False로 표현할 수 있는 표현식이 사용되지 않았습니다.\n    print(\"n은 5 입니다!\")  ",
    "tags": []
   },
   "outputs": [],
   "source": [
    "# 예제_3_잘못_사용된_if문\n",
    "\n",
    "n = int(input(\"숫자를 입력하세요\"))\n",
    "if n = 5: # if 뒤에 True 또는 False로 표현할 수 있는 표현식이 사용되지 않았습니다.\n",
    "    print(\"n은 5 입니다!\")"
   ]
  },
  {
   "cell_type": "markdown",
   "id": "31481bab-45b1-4b1b-a523-55d6e52e85ce",
   "metadata": {},
   "source": [
    "<div style=\"padding: 15px; border: 5px solid transparent; border-color: transparent; margin-bottom: 20px; border-radius: 4px; color: #a94442; border-color: #ebccd1;\">\n",
    "    <div style=\"font-weight: bold; font-size: 20px\">💣 자주만나는 오류</div>\n",
    "    if 뒤에는 True 또는 False로 표현할 수 있는 표현식이 사용되어야 합니다.<br>\n",
    "    예제3의 4번째 줄의 코드는 if 뒤에 n에 5를 대입하는 코드가 사용되었습니다.<br>\n",
    "    이 코드는 True 또는 False로 표현할 수 없기 때문에 오류가 발생합니다. <br>\n",
    "    n과 5가 같은지 비교 하기 위해서는 비교연산자 `==`를 사용하도록 코드를 수정하여야 합니다.\n",
    "</div>"
   ]
  },
  {
   "cell_type": "markdown",
   "id": "b53a2412-26dd-432d-93b3-4adc6513e34e",
   "metadata": {},
   "source": [
    "<div style=\"padding: 15px; border: 5px solid transparent; border-color: transparent; margin-bottom: 20px; border-radius: 4px; color: #8a6d3b;  border-color: #faebcc;\">\n",
    "    <div style=\"font-weight: bold; font-size: 20px\">💯 연습문제를 풀어봅시다</div>\n",
    "    <br>\n",
    "    오류수정하기 문제 - 1\n",
    "    빈칸 채우기 문제 - 1\n",
    "    빈칸 채우기 문제 - 2\n",
    "    문제 - 1\n",
    "    문제 - 2\n",
    "</div>"
   ]
  },
  {
   "cell_type": "markdown",
   "id": "9bf8fe28-7c4b-4bcd-9e91-c81b0f9e3ea0",
   "metadata": {
    "jp-MarkdownHeadingCollapsed": true,
    "tags": []
   },
   "source": [
    "<div style=\"padding: 15px; border: 5px solid transparent; border-color: transparent; margin-bottom: 20px; border-radius: 4px; color: #3c763d; border-color: #d6e9c6; font-weight: bold;\">\n",
    "<h2 style='font-weight: bold'>2. if-else 조건문 사용하기</h2>\n",
    "</div> "
   ]
  },
  {
   "cell_type": "markdown",
   "id": "c2967121-8728-4967-9116-2353e21e6459",
   "metadata": {},
   "source": [
    "조건문을 사용할 때, 조건이 참이 아닐 때 실행되는 코드를 추가할 수 있습니다.<br>\n",
    "`else` 문을 사용하여 조건이 거짓일 때 특정 코드를 실행할 수 있도록 합니다.<br>\n",
    "이를 통해 코드의 진행이 2가지 방향으로 나뉘게 됩니다.<br>\n",
    "\n",
    "`else`를 사용하면 코드는 아래와 같은 형태를 가집니다.<br>\n",
    "\n",
    ">```python\n",
    ">if 조건:\n",
    ">    조건이 만족할 때 실행될 코드\n",
    ">else:\n",
    ">    조건을 만족하지 않을 때 실행될 코드\n",
    ">```\n",
    "\n",
    "앞서 `if` 조건문에서 `else` 가 추가된 형태입니다.<br>\n",
    "`조건` 부분과 `조건이 만족할 때 실행될 코드` 부분은 앞선 `if` 문과 동일합니다.<br>\n",
    "\n",
    "`else` 뒤에는 조건이 붙지 않는데, 이는 else 이후에 오는 `조건을 만족하지 않을 때 실행될 코드` 부분은 `조건`이 만족하지 않을 때, 즉, False(거짓) 일 때에 실행되기 때문입니다.<br>\n",
    "따라서 `else`는 단독으로 사용될 수 없고 항상 `if` 의 뒤에 존재해야 합니다.<br>\n",
    "\n",
    "`조건을 만족하지 않을 때 실행될 코드` 부분은 `조건이 만족할 때 실행될 코드`와 마찬가지로 들여쓰기를 해 코드의 다른 부분과 구분해줍니다.<br>\n",
    "\n",
    "아래의 예시 코드들을 보면서 함께 익혀봅시다."
   ]
  },
  {
   "cell_type": "markdown",
   "id": "3f095f04-4334-4194-a6d5-ab36c739383e",
   "metadata": {},
   "source": [
    "**예제 4 : if-else문을 활용하여 n이 5인지 여부에 따라 다르게 실행되는 코드**"
   ]
  },
  {
   "cell_type": "code",
   "execution_count": null,
   "id": "5656e879-32ab-446c-af9c-6cb0b994ec62",
   "metadata": {
    "tags": []
   },
   "outputs": [],
   "source": [
    "# 예제_4_if-else문을_활용하여_n이_5인지_여부에_따라_다르게_실행되는_코드\n",
    "\n",
    "n = int(input(\"숫자를 입력하세요\"))\n",
    "if n == 5:\n",
    "    print(\"n은 5 입니다!\")  # n이 5라는 조건이 참일 때 실행됩니다. \n",
    "else:\n",
    "    print(\"n은 5가 아닙니다!\")  # n이 5라는 조건이 거짓일 때 실행됩니다. "
   ]
  },
  {
   "cell_type": "markdown",
   "id": "b595266c-3d10-4db8-ad93-e423c2f61984",
   "metadata": {},
   "source": [
    "**예제 5 : if-else문을 활용하여 n이 5인지 여부에 따라 다르게 실행되는 코드2**"
   ]
  },
  {
   "cell_type": "code",
   "execution_count": null,
   "id": "6c62b23e-a9f3-4673-90da-727ce8eef677",
   "metadata": {
    "tags": []
   },
   "outputs": [],
   "source": [
    "# 예제_5_if-else문을_활용하여_n이_5인지_여부에_따라_다르게_실행되는_코드2\n",
    "\n",
    "n = int(input(\"숫자를 입력하세요\"))\n",
    "if n == 5:\n",
    "    print(\"n은 5 입니다!\")\n",
    "else:\n",
    "    print(\"n은 5가 아닙니다!\")\n",
    "print(\"코드가 끝났습니다.\") # n이 어떤 값이든 실행됩니다."
   ]
  },
  {
   "cell_type": "markdown",
   "id": "bd24c1fd-6365-4907-bb3e-e2b16edf46e8",
   "metadata": {},
   "source": [
    "<div style=\"padding: 15px; border: 5px solid transparent; border-color: transparent; margin-bottom: 20px; border-radius: 4px; color: #8a6d3b;  border-color: #faebcc;\">\n",
    "    <div style=\"font-weight: bold; font-size: 20px\">💯 연습문제를 풀어봅시다</div>\n",
    "    <br>\n",
    "    오류수정하기 문제 - 1\n",
    "    빈칸 채우기 문제 - 1\n",
    "    빈칸 채우기 문제 - 2\n",
    "    문제 - 1\n",
    "    문제 - 2\n",
    "</div>"
   ]
  },
  {
   "cell_type": "markdown",
   "id": "bdd5b6a3-bb58-471c-88ee-44b1e7da39a2",
   "metadata": {
    "jp-MarkdownHeadingCollapsed": true,
    "tags": []
   },
   "source": [
    "<div style=\"padding: 15px; border: 5px solid transparent; border-color: transparent; margin-bottom: 20px; border-radius: 4px; color: #3c763d; border-color: #d6e9c6; font-weight: bold;\">\n",
    "<h2 style='font-weight: bold'>3. if-elif-else 조건문 사용하기</h2>\n",
    "</div> "
   ]
  },
  {
   "cell_type": "markdown",
   "id": "e439bd26-e270-403e-a755-fe0453a2fa23",
   "metadata": {},
   "source": [
    "프로그래밍을 하다 보면 참, 거짓의 2가지로만 상황을 처리하기에는 힘든 경우가 있습니다.<br>\n",
    "예를 들어 점수로 등급을 매기는 경우가 있습니다.<br>\n",
    "\n",
    "90점 이상은 A 등급, 70점 ~ 90점은 B 등급, 70점 미만은 C 등급을 매기려하고 하면 단순히 if-else 조건문만을 사용하면 한계가 있습니다.(이후에 배울 중첩조건문을 사용해서 해결할 수 있습니다.)<br>\n",
    "\n",
    "이 때에는 `elif`를 사용해 조건을 여러개 지정하여 각 조건마다 다른 코드를 동작시킬 수 있습니다.<br>\n",
    "\n",
    ">```python\n",
    ">if 조건1:\n",
    ">    조건1이 만족할 때 실행될 코드\n",
    ">elif 조건2:\n",
    ">    조건1이 만족하지 않고 조건2가 만족할 때 실행될 코드\n",
    ">else:\n",
    ">    조건1과 조건2를 모두 만족하지 않을 때 실행될 코드\n",
    ">```\n",
    "\n",
    "`elif`는 `if`의 `조건1`을 만족하지 않고 `elif`의 `조건2`를 만족할 때에 해당되는 코드가 실행되는 구조이기 때문에 `else`와는 다르게 조건이 반드시 필요합니다.\n",
    "하지만 `else`와 마찬가지로 `if` 없이 단독으로 사용될 수 없습니다.\n",
    "\n",
    "`elif` 뒤의 `조건1이 만족하지 않고 조건2가 만족할 때 실행될 코드` 부분은 `조건1`이 False(거짓) 이고 `조건2`가 True(참)일 때 실행됩니다.\n",
    "`else` 뒤의 `조건1과 조건2를 모두 만족하지 않을 때 실행될 코드` 부분은 `조건1`과 `조건2` 모두 False(거짓)일 때에 실행됩니다.\n",
    "\n",
    "각각의 경우에 실행되는 코드들은 모두 들여쓰기를 해서 조건문 밖의 코드들과 구분해줍니다.\n",
    "\n",
    "아래의 예시 코드들을 보면서 함께 익혀봅시다."
   ]
  },
  {
   "cell_type": "markdown",
   "id": "fd2150d6-4acc-4103-b6ee-cc51bccac055",
   "metadata": {},
   "source": [
    "**예제 6 : if-elif-else문을 활용하여 조건 3개에 대해 다른 동작을 하는 코드**"
   ]
  },
  {
   "cell_type": "code",
   "execution_count": null,
   "id": "64c05e33-e814-4060-a0e3-b326c58b5f72",
   "metadata": {
    "tags": []
   },
   "outputs": [],
   "source": [
    "# 예제_6_if-elif-else문을_활용하여_조건_3개에_대해_다른_동작을_하는_코드\n",
    "\n",
    "n = int(input(\"숫자를 입력하세요\"))\n",
    "if n == 5:\n",
    "    print(\"n은 5 입니다!\")  # n==5 조건이 참일 때 실행됩니다. \n",
    "elif n > 5:\n",
    "    print(\"n은 5보다 큽니다!\")  # n==5 조건이 거짓이고, n>5 조건이 참일 때 실행됩니다. \n",
    "else:\n",
    "    print(\"n은 5보다 작습니다!\")  # n==5 조건이 거짓이고, n>5 조건도 거짓일 때 실행됩니다."
   ]
  },
  {
   "cell_type": "markdown",
   "id": "ddc16017-a768-4acb-955c-28af6e8b5f4b",
   "metadata": {},
   "source": [
    "<div style=\"padding: 15px; border: 5px solid transparent; border-color: transparent; margin-bottom: 20px; border-radius: 4px; color: #8a6d3b;  border-color: #faebcc;\">\n",
    "    <div style=\"font-weight: bold; font-size: 20px\">💯 연습문제를 풀어봅시다</div>\n",
    "    <br>\n",
    "    오류수정하기 문제 - 1\n",
    "    빈칸 채우기 문제 - 1\n",
    "    빈칸 채우기 문제 - 2\n",
    "    문제 - 1\n",
    "    문제 - 2\n",
    "</div>"
   ]
  },
  {
   "cell_type": "markdown",
   "id": "71433973-fb20-4776-bce0-8e50cbc86601",
   "metadata": {
    "tags": []
   },
   "source": [
    "<div style=\"padding: 15px; border: 5px solid transparent; border-color: transparent; margin-bottom: 20px; border-radius: 4px; color: #3c763d; border-color: #d6e9c6; font-weight: bold;\">\n",
    "<h2 style='font-weight: bold'>프로젝트</h2>\n",
    "숫자 야구 게임에서 볼, 스트라이크를 판정하는 시스템을 만들어봅시다.\n",
    "</div> "
   ]
  }
 ],
 "metadata": {
  "kernelspec": {
   "display_name": "Python 3 (ipykernel)",
   "language": "python",
   "name": "python3"
  },
  "language_info": {
   "codemirror_mode": {
    "name": "ipython",
    "version": 3
   },
   "file_extension": ".py",
   "mimetype": "text/x-python",
   "name": "python",
   "nbconvert_exporter": "python",
   "pygments_lexer": "ipython3",
   "version": "3.10.12"
  }
 },
 "nbformat": 4,
 "nbformat_minor": 5
}
