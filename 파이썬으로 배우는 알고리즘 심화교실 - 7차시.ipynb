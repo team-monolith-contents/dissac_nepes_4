{
 "cells": [
  {
   "cell_type": "markdown",
   "id": "2d8dd860-f8a8-4819-901a-4b8415fc85f2",
   "metadata": {
    "tags": []
   },
   "source": [
    "<div style=\"padding: 15px; border: 5px solid transparent; border-color: transparent; margin-bottom: 20px; border-radius: 4px; color: #3c763d; background-color: #dff0d8; border-color: #d6e9c6; font-weight: bold;\">\n",
    "    <br><br>\n",
    "    <div style=\"font-weight: bold; font-size: 40px\">파이썬으로 배우는 알고리즘 심화교실</div>\n",
    "    <div style=\"font-weight: bold; font-size: 20px\">(7) 원하는 코드를 찾아서 사용해보아요.</div>\n",
    "    <hr style=\"width:80%;text-align:left;margin-left:0;border:0.5px solid green\">\n",
    "    <br>\n",
    "    &#x2022; 파이썬의 라이브러리에 대해 이해한다.<br>\n",
    "    &#x2022; 랜덤 라이브러리에 대해 이해합니다.<br>\n",
    "    &#x2022; 숫자 야구 게임의 문제를 랜덤하게 만든다.<br>\n",
    "</div>"
   ]
  },
  {
   "cell_type": "markdown",
   "id": "4967dba1-9a95-4640-baa8-2fa4484ab385",
   "metadata": {
    "tags": []
   },
   "source": [
    "<div style=\"padding: 15px; border: 5px solid transparent; border-color: transparent; margin-bottom: 20px; border-radius: 4px; color: #3c763d; border-color: #d6e9c6; font-weight: bold;\">\n",
    "<h2 style='font-weight: bold'>1. 라이브러리의 이해</h2>\n",
    "</div> "
   ]
  },
  {
   "cell_type": "markdown",
   "id": "ec91cdae-ac06-47d2-a58d-cf2c5f391d60",
   "metadata": {},
   "source": [
    "<div style=\"padding: 15px; border: 5px solid transparent; border-color: transparent; margin-bottom: 20px; border-radius: 4px; color: #8a6d3b;  border-color: #faebcc;\">\n",
    "    <div style=\"font-weight: bold; font-size: 20px\">💯 연습문제를 풀어봅시다</div>\n",
    "    <br>\n",
    "\n",
    "</div>"
   ]
  },
  {
   "cell_type": "markdown",
   "id": "f6b3356c-a8cd-4a73-b3ef-8ad8f514264e",
   "metadata": {
    "tags": []
   },
   "source": [
    "<div style=\"padding: 15px; border: 5px solid transparent; border-color: transparent; margin-bottom: 20px; border-radius: 4px; color: #3c763d; border-color: #d6e9c6; font-weight: bold;\">\n",
    "<h2 style='font-weight: bold'>2. 랜덤 라이브러리 사용하기</h2>\n",
    "</div> "
   ]
  },
  {
   "cell_type": "markdown",
   "id": "18edffc7-3542-4de9-ab86-e6c9d8dd462b",
   "metadata": {},
   "source": [
    "<div style=\"padding: 15px; border: 5px solid transparent; border-color: transparent; margin-bottom: 20px; border-radius: 4px; color: #8a6d3b;  border-color: #faebcc;\">\n",
    "    <div style=\"font-weight: bold; font-size: 20px\">💯 연습문제를 풀어봅시다</div>\n",
    "    <br>\n",
    "\n",
    "</div>"
   ]
  },
  {
   "cell_type": "markdown",
   "id": "71433973-fb20-4776-bce0-8e50cbc86601",
   "metadata": {
    "tags": []
   },
   "source": [
    "<div style=\"padding: 15px; border: 5px solid transparent; border-color: transparent; margin-bottom: 20px; border-radius: 4px; color: #3c763d; border-color: #d6e9c6; font-weight: bold;\">\n",
    "<h2 style='font-weight: bold'>프로젝트</h2>\n",
    "숫자 야구 게임의 문제를 랜덤하게 만듭니다.\n",
    "</div> "
   ]
  },
  {
   "cell_type": "code",
   "execution_count": 19,
   "id": "63aa9697-2a88-4793-85e6-0632618205f7",
   "metadata": {
    "tags": []
   },
   "outputs": [
    {
     "name": "stdout",
     "output_type": "stream",
     "text": [
      "647\n"
     ]
    }
   ],
   "source": [
    "import random\n",
    "\n",
    "# 정답 랜덤 생성\n",
    "while True:\n",
    "    answer = random.randint(100,999)\n",
    "    answer = str(answer)\n",
    "    if answer[0] != answer[1] and answer[0] != answer[2] and answer[1] != answer[2]:\n",
    "        break\n",
    "\n",
    "print(answer)"
   ]
  },
  {
   "cell_type": "code",
   "execution_count": 3,
   "id": "ca9a6de9-1315-41e4-9d1d-77438c33978b",
   "metadata": {
    "error_code": "import random\n\nwhile True:\n    answer = random.randint(100,999)\n    str(answer)\n    if answer[0] != answer[1] and answer[0] != answer[2]:\n        break\n\nhistory = []\nresult = []\n\nfor i in range(9):\n    print(i, \"번째 이닝입니다.(\",i,\"/9)\")\n    player = input(\"정답을 입력해주세요\")\n    print(\"입력한 정답은 \", player, \" 입니다.\")\n    history.append(player)\n\n    ### 볼, 스트라이크 판별\n    s = 0\n    b = 0\n    for j in range(len(player)):\n        if player[j] == answer[j]:\n            s += 1\n        elif player[j] in answer:\n            b += 1\n    \n    result.append([s,b])\n\n    ### 정답, 아웃 판정\n    if s == 3:\n        print(\"정답입니다.\")\n        break\n    elif s == 0 and b == 0:\n        print(\"아웃입니다.\")\n    else:\n        print(s, \" 스트라이크, \", b,\" 볼 입니다.\")\n\n    print(\"지금까지의 기록입니다 : \", history, result)\n    print(\"-\"*50)",
    "tags": []
   },
   "outputs": [
    {
     "name": "stdout",
     "output_type": "stream",
     "text": [
      "0 번째 이닝입니다.( 0 /9)\n"
     ]
    },
    {
     "name": "stdin",
     "output_type": "stream",
     "text": [
      "정답을 입력해주세요 123\n"
     ]
    },
    {
     "name": "stdout",
     "output_type": "stream",
     "text": [
      "입력한 정답은  123  입니다.\n",
      "1  스트라이크,  1  볼 입니다.\n",
      "지금까지의 기록입니다 :  ['123'] [[1, 1]]\n",
      "--------------------------------------------------\n",
      "1 번째 이닝입니다.( 1 /9)\n"
     ]
    },
    {
     "name": "stdin",
     "output_type": "stream",
     "text": [
      "정답을 입력해주세요 142\n"
     ]
    },
    {
     "name": "stdout",
     "output_type": "stream",
     "text": [
      "입력한 정답은  142  입니다.\n",
      "0  스트라이크,  2  볼 입니다.\n",
      "지금까지의 기록입니다 :  ['123', '142'] [[1, 1], [0, 2]]\n",
      "--------------------------------------------------\n",
      "2 번째 이닝입니다.( 2 /9)\n"
     ]
    },
    {
     "name": "stdin",
     "output_type": "stream",
     "text": [
      "정답을 입력해주세요 324\n"
     ]
    },
    {
     "name": "stdout",
     "output_type": "stream",
     "text": [
      "입력한 정답은  324  입니다.\n",
      "1  스트라이크,  0  볼 입니다.\n",
      "지금까지의 기록입니다 :  ['123', '142', '324'] [[1, 1], [0, 2], [1, 0]]\n",
      "--------------------------------------------------\n",
      "3 번째 이닝입니다.( 3 /9)\n"
     ]
    },
    {
     "name": "stdin",
     "output_type": "stream",
     "text": [
      "정답을 입력해주세요 156\n"
     ]
    },
    {
     "name": "stdout",
     "output_type": "stream",
     "text": [
      "입력한 정답은  156  입니다.\n",
      "0  스트라이크,  2  볼 입니다.\n",
      "지금까지의 기록입니다 :  ['123', '142', '324', '156'] [[1, 1], [0, 2], [1, 0], [0, 2]]\n",
      "--------------------------------------------------\n",
      "4 번째 이닝입니다.( 4 /9)\n"
     ]
    },
    {
     "name": "stdin",
     "output_type": "stream",
     "text": [
      "정답을 입력해주세요 521\n"
     ]
    },
    {
     "name": "stdout",
     "output_type": "stream",
     "text": [
      "입력한 정답은  521  입니다.\n",
      "2  스트라이크,  0  볼 입니다.\n",
      "지금까지의 기록입니다 :  ['123', '142', '324', '156', '521'] [[1, 1], [0, 2], [1, 0], [0, 2], [2, 0]]\n",
      "--------------------------------------------------\n",
      "5 번째 이닝입니다.( 5 /9)\n"
     ]
    },
    {
     "name": "stdin",
     "output_type": "stream",
     "text": [
      "정답을 입력해주세요 621\n"
     ]
    },
    {
     "name": "stdout",
     "output_type": "stream",
     "text": [
      "입력한 정답은  621  입니다.\n",
      "정답입니다.\n"
     ]
    }
   ],
   "source": [
    "import random\n",
    "\n",
    "# 정답 랜덤 생성\n",
    "while True:\n",
    "    answer = random.randint(100,999)\n",
    "    answer = str(answer)\n",
    "    if answer[0] != answer[1] and answer[0] != answer[2] and answer[1] != answer[2]:\n",
    "        break\n",
    "\n",
    "history = []\n",
    "result = []\n",
    "\n",
    "for i in range(9):\n",
    "    print(i, \"번째 이닝입니다.(\",i,\"/9)\")\n",
    "    player = input(\"정답을 입력해주세요\")\n",
    "    print(\"입력한 정답은 \", player, \" 입니다.\")\n",
    "    history.append(player)\n",
    "\n",
    "    ### 볼, 스트라이크 판별\n",
    "    s = 0\n",
    "    b = 0\n",
    "    for j in range(len(player)):\n",
    "        if player[j] == answer[j]:\n",
    "            s += 1\n",
    "        elif player[j] in answer:\n",
    "            b += 1\n",
    "    \n",
    "    result.append([s,b])\n",
    "\n",
    "    ### 정답, 아웃 판정\n",
    "    if s == 3:\n",
    "        print(\"정답입니다.\")\n",
    "        break\n",
    "    elif s == 0 and b == 0:\n",
    "        print(\"아웃입니다.\")\n",
    "    else:\n",
    "        print(s, \" 스트라이크, \", b,\" 볼 입니다.\")\n",
    "\n",
    "    print(\"지금까지의 기록입니다 : \", history, result)\n",
    "    print(\"-\"*50)"
   ]
  }
 ],
 "metadata": {
  "kernelspec": {
   "display_name": "Python 3 (ipykernel)",
   "language": "python",
   "name": "python3"
  },
  "language_info": {
   "codemirror_mode": {
    "name": "ipython",
    "version": 3
   },
   "file_extension": ".py",
   "mimetype": "text/x-python",
   "name": "python",
   "nbconvert_exporter": "python",
   "pygments_lexer": "ipython3",
   "version": "3.10.12"
  }
 },
 "nbformat": 4,
 "nbformat_minor": 5
}
