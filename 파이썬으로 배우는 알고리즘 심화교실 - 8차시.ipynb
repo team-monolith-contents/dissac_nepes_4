{
 "cells": [
  {
   "cell_type": "markdown",
   "id": "2d8dd860-f8a8-4819-901a-4b8415fc85f2",
   "metadata": {
    "tags": []
   },
   "source": [
    "<div style=\"padding: 15px; border: 5px solid transparent; border-color: transparent; margin-bottom: 20px; border-radius: 4px; color: #3c763d; background-color: #dff0d8; border-color: #d6e9c6; font-weight: bold;\">\n",
    "    <br><br>\n",
    "    <div style=\"font-weight: bold; font-size: 40px\">파이썬으로 배우는 알고리즘 심화교실</div>\n",
    "    <div style=\"font-weight: bold; font-size: 20px\">(8) 코드 정리하기 : 함수의 사용</div>\n",
    "    <hr style=\"width:80%;text-align:left;margin-left:0;border:0.5px solid green\">\n",
    "    <br>\n",
    "    &#x2022; 파이썬의 함수에 대해 이해하고 함수를 직점 만들고 사용할 수 있다.<br>\n",
    "    &#x2022; 매개변수에 대해 이해한다.<br>\n",
    "    &#x2022; 숫자 야구 게임을 완성한다.<br>\n",
    "</div>"
   ]
  },
  {
   "cell_type": "markdown",
   "id": "4967dba1-9a95-4640-baa8-2fa4484ab385",
   "metadata": {
    "jp-MarkdownHeadingCollapsed": true,
    "tags": []
   },
   "source": [
    "<div style=\"padding: 15px; border: 5px solid transparent; border-color: transparent; margin-bottom: 20px; border-radius: 4px; color: #3c763d; border-color: #d6e9c6; font-weight: bold;\">\n",
    "<h2 style='font-weight: bold'>1. 함수 만들기</h2>\n",
    "</div> "
   ]
  },
  {
   "cell_type": "markdown",
   "id": "f6b3356c-a8cd-4a73-b3ef-8ad8f514264e",
   "metadata": {
    "jp-MarkdownHeadingCollapsed": true,
    "tags": []
   },
   "source": [
    "<div style=\"padding: 15px; border: 5px solid transparent; border-color: transparent; margin-bottom: 20px; border-radius: 4px; color: #3c763d; border-color: #d6e9c6; font-weight: bold;\">\n",
    "<h2 style='font-weight: bold'>2. 함수 사용하기</h2>\n",
    "</div> "
   ]
  },
  {
   "cell_type": "markdown",
   "id": "71433973-fb20-4776-bce0-8e50cbc86601",
   "metadata": {
    "tags": []
   },
   "source": [
    "<div style=\"padding: 15px; border: 5px solid transparent; border-color: transparent; margin-bottom: 20px; border-radius: 4px; color: #3c763d; border-color: #d6e9c6; font-weight: bold;\">\n",
    "<h2 style='font-weight: bold'>프로젝트</h2>\n",
    "숫자 야구 게임을 완성해봅시다.\n",
    "</div> "
   ]
  },
  {
   "cell_type": "code",
   "execution_count": 2,
   "id": "e530f858-d24f-4090-a6da-a8c642e3198f",
   "metadata": {
    "tags": []
   },
   "outputs": [],
   "source": [
    "import random\n",
    "\n",
    "# 정답 생성 함수\n",
    "def make_answer():\n",
    "    while True:\n",
    "        answer = random.randint(100,999)\n",
    "        answer = str(answer)\n",
    "        if answer[0] != answer[1] and answer[0] != answer[2] and answer[1] != answer[2]:\n",
    "            return answer"
   ]
  },
  {
   "cell_type": "code",
   "execution_count": 3,
   "id": "c719ec7d-723a-4a18-945e-01e67192e775",
   "metadata": {
    "tags": []
   },
   "outputs": [],
   "source": [
    "# 볼, 스트라이크 판별 함수\n",
    "def strike_ball(player, answer):\n",
    "    s = 0\n",
    "    b = 0\n",
    "    for j in range(len(player)):\n",
    "        if player[j] == answer[j]:\n",
    "            s += 1\n",
    "        elif player[j] in answer:\n",
    "            b += 1\n",
    "    return s, b"
   ]
  },
  {
   "cell_type": "code",
   "execution_count": 4,
   "id": "5b6d0458-bb36-4f70-8fb2-6328edf06913",
   "metadata": {
    "tags": []
   },
   "outputs": [],
   "source": [
    "# 정답, 아웃 판정 함수\n",
    "def judge(s, b):\n",
    "    if s == 3:\n",
    "        print(\"정답입니다.\")\n",
    "        return 1\n",
    "    elif s == 0 and b == 0:\n",
    "        print(\"아웃입니다.\")\n",
    "        return 0\n",
    "    else:\n",
    "        print(s, \" 스트라이크, \", b,\" 볼 입니다.\")\n",
    "        return 0"
   ]
  },
  {
   "cell_type": "code",
   "execution_count": 5,
   "id": "4e36fb17-a1b3-4d63-9122-9f73309aab88",
   "metadata": {
    "tags": []
   },
   "outputs": [],
   "source": [
    "# 기록 추가 함수\n",
    "def add_history(history, result, player, s,b):\n",
    "    history.append(answer)\n",
    "    result.append([s,b])\n",
    "    return history, result"
   ]
  },
  {
   "cell_type": "code",
   "execution_count": 8,
   "id": "a1eb6db7-3e5b-4a71-93c7-0bd033e6a076",
   "metadata": {
    "error_code": "answer = make_answer()\n\nhistory = []\nresult = []\n\nfor i in range(9):\n    print(i, \"번째 이닝입니다.(\",i,\"/9)\")\n    player = input(\"정답을 입력해주세요\")\n    s,b = strike_ball(player, answer)\n    add_history(history, result, answer, s, b)\n    if judge(s,b) == 1:\n        return\n    print(\"지금까지의 기록입니다 : \", history, result)\n    print(\"-\"*50)",
    "tags": []
   },
   "outputs": [
    {
     "name": "stdout",
     "output_type": "stream",
     "text": [
      "0 번째 이닝입니다.( 0 /9)\n"
     ]
    },
    {
     "name": "stdin",
     "output_type": "stream",
     "text": [
      "정답을 입력해주세요 123\n"
     ]
    },
    {
     "name": "stdout",
     "output_type": "stream",
     "text": [
      "0  스트라이크,  1  볼 입니다.\n",
      "지금까지의 기록입니다 :  ['123'] [[0, 1]]\n",
      "--------------------------------------------------\n",
      "1 번째 이닝입니다.( 1 /9)\n"
     ]
    },
    {
     "name": "stdin",
     "output_type": "stream",
     "text": [
      "정답을 입력해주세요 456\n"
     ]
    },
    {
     "name": "stdout",
     "output_type": "stream",
     "text": [
      "0  스트라이크,  1  볼 입니다.\n",
      "지금까지의 기록입니다 :  ['123', '456'] [[0, 1], [0, 1]]\n",
      "--------------------------------------------------\n",
      "2 번째 이닝입니다.( 2 /9)\n"
     ]
    },
    {
     "name": "stdin",
     "output_type": "stream",
     "text": [
      "정답을 입력해주세요 347\n"
     ]
    },
    {
     "name": "stdout",
     "output_type": "stream",
     "text": [
      "아웃입니다.\n",
      "지금까지의 기록입니다 :  ['123', '456', '347'] [[0, 1], [0, 1], [0, 0]]\n",
      "--------------------------------------------------\n",
      "3 번째 이닝입니다.( 3 /9)\n"
     ]
    },
    {
     "name": "stdin",
     "output_type": "stream",
     "text": [
      "정답을 입력해주세요 285\n"
     ]
    },
    {
     "name": "stdout",
     "output_type": "stream",
     "text": [
      "2  스트라이크,  0  볼 입니다.\n",
      "지금까지의 기록입니다 :  ['123', '456', '347', '285'] [[0, 1], [0, 1], [0, 0], [2, 0]]\n",
      "--------------------------------------------------\n",
      "4 번째 이닝입니다.( 4 /9)\n"
     ]
    },
    {
     "name": "stdin",
     "output_type": "stream",
     "text": [
      "정답을 입력해주세요 289\n"
     ]
    },
    {
     "name": "stdout",
     "output_type": "stream",
     "text": [
      "1  스트라이크,  0  볼 입니다.\n",
      "지금까지의 기록입니다 :  ['123', '456', '347', '285', '289'] [[0, 1], [0, 1], [0, 0], [2, 0], [1, 0]]\n",
      "--------------------------------------------------\n",
      "5 번째 이닝입니다.( 5 /9)\n"
     ]
    },
    {
     "name": "stdin",
     "output_type": "stream",
     "text": [
      "정답을 입력해주세요 205\n"
     ]
    },
    {
     "name": "stdout",
     "output_type": "stream",
     "text": [
      "정답입니다.\n"
     ]
    }
   ],
   "source": [
    "answer = make_answer()\n",
    "\n",
    "history = []\n",
    "result = []\n",
    "\n",
    "for i in range(9):\n",
    "    print(i, \"번째 이닝입니다.(\",i,\"/9)\")\n",
    "    player = input(\"정답을 입력해주세요\")\n",
    "    s,b = strike_ball(player, answer)\n",
    "    history, result = add_history(history, result, player, s, b)\n",
    "    if judge(s,b) == 1:\n",
    "        break\n",
    "    print(\"지금까지의 기록입니다 : \", history, result)\n",
    "    print(\"-\"*50)"
   ]
  },
  {
   "cell_type": "code",
   "execution_count": 34,
   "id": "d2d3d188-4880-4dbd-9330-bfefdc66b0ae",
   "metadata": {
    "error_code": "from ipywidgets import Image\nfrom ipycanvas import Canvas\nimport ipywidgets as widgets\nfrom IPython.display import display, clear_output\n\nimport random\n\nclass Baseball():\n    def __init__(self, make_answer, strike_ball, judge, add_history):\n        self.__canvas = Canvas(width = 700, height = 500)\n        self.__inning = 0\n        \n        self.__play_button = widgets.Button(\n            description='PLAY',\n            disabled=False,\n            button_style='',\n            tooltip='PLAY'\n        )\n        \n        self.__player_answer = widgets.BoundedIntText(\n            min=0,\n            max=999,\n            step=1,\n            description='정답 입력:',\n            disabled=False\n        )\n        self.__output = widgets.Output()\n        \n        display(int_range, self.__play_button, self.__player_answer, self.__output)\n        \n        self.__player_answer.observe(self.__on_player_anwer_change, names='value')\n    \n    def __on_player_anwer_change(self, change):\n        with self.__output:\n            print(change['new'])\n        \n    # self.__button.on_click(self.__play_function_handler)\n    \n#     def play(self):\n#         for i in range(9):\n#             self.__inning = i + 1\n    \n#     player = input(\"정답을 입력해주세요\")\n#     s,b = strike_ball(player, answer)\n#     history, result = add_history(history, result, player, s, b)\n#     if judge(s,b) == 1:\n#         break\n#     print(\"지금까지의 기록입니다 : \", history, result)\n#     print(\"-\"*50)\n    \n#     def show(self):\n#         inning_prompt = f\"{i} 번째 이닝입니다({i}/9)\".format(self.__inning)\n#         pass\n\nBaseball(make_answer, strike_ball, judge, add_history)",
    "tags": []
   },
   "outputs": [
    {
     "data": {
      "application/vnd.jupyter.widget-view+json": {
       "model_id": "ea166c2526d343dc8f8676e8e5c4b041",
       "version_major": 2,
       "version_minor": 0
      },
      "text/plain": [
       "Canvas(height=480, width=853)"
      ]
     },
     "metadata": {},
     "output_type": "display_data"
    },
    {
     "data": {
      "application/vnd.jupyter.widget-view+json": {
       "model_id": "b4b9a3d82b5846eaa23c50e08c9914dc",
       "version_major": 2,
       "version_minor": 0
      },
      "text/plain": [
       "Button(description='PLAY', style=ButtonStyle(), tooltip='PLAY')"
      ]
     },
     "metadata": {},
     "output_type": "display_data"
    },
    {
     "data": {
      "application/vnd.jupyter.widget-view+json": {
       "model_id": "3cb61b9c7db84843a27433cd5187c3a2",
       "version_major": 2,
       "version_minor": 0
      },
      "text/plain": [
       "BoundedIntText(value=0, description='정답 입력:', max=999)"
      ]
     },
     "metadata": {},
     "output_type": "display_data"
    },
    {
     "data": {
      "application/vnd.jupyter.widget-view+json": {
       "model_id": "4e34992960dc4c3d960030d173765cdc",
       "version_major": 2,
       "version_minor": 0
      },
      "text/plain": [
       "Output()"
      ]
     },
     "metadata": {},
     "output_type": "display_data"
    },
    {
     "data": {
      "text/plain": [
       "<__main__.Baseball at 0x7f4d501ff640>"
      ]
     },
     "execution_count": 34,
     "metadata": {},
     "output_type": "execute_result"
    }
   ],
   "source": [
    "from ipywidgets import Image\n",
    "from ipycanvas import Canvas\n",
    "import ipywidgets as widgets\n",
    "from IPython.display import display, clear_output\n",
    "\n",
    "import random\n",
    "\n",
    "class Baseball():\n",
    "    def __init__(self, make_answer, strike_ball, judge, add_history):\n",
    "        self.__canvas = Canvas(width=853, height=480)\n",
    "        self.__canvas.draw_image(Image.from_file(\"baseball.gif\"), 0,0)\n",
    "        \n",
    "        self.__inning = 0\n",
    "        \n",
    "        self.__play_button = widgets.Button(\n",
    "            description='PLAY',\n",
    "            disabled=False,\n",
    "            button_style='',\n",
    "            tooltip='PLAY'\n",
    "        )\n",
    "        self.__play_button = widgets.Button(\n",
    "            description='REPLAY',\n",
    "            disabled=False,\n",
    "            button_style='',\n",
    "            tooltip='REPLAY'\n",
    "        )\n",
    "        self.__progress_button = widgets.Button(\n",
    "            description='진행',\n",
    "            disabled=False,\n",
    "            button_style='',\n",
    "            tooltip='진행'\n",
    "        )\n",
    "        self.__player_answer = widgets.BoundedIntText(\n",
    "            min=0,\n",
    "            max=999,\n",
    "            step=1,\n",
    "            description='정답 입력:',\n",
    "            disabled=False\n",
    "        )\n",
    "        self.__output = widgets.Output()\n",
    "        display(self.__canvas, self.__play_button, self.__player_answer, self.__output)\n",
    "        \n",
    "        self.__player_answer.observe(self.__on_player_anwer_change, names='value')\n",
    "        self.__play_button.on_click(self.__play)\n",
    "            \n",
    "    def __on_player_anwer_change(self, change):\n",
    "        with self.__output:\n",
    "            print(change['new'])\n",
    "    \n",
    "    def __play(self.button):\n",
    "        with self.__output:\n",
    "            \n",
    "    # self.__button.on_click(self.__play_function_handler)\n",
    "    \n",
    "#     def play(self):\n",
    "#         for i in range(9):\n",
    "#             self.__inning = i + 1\n",
    "    \n",
    "#     player = input(\"정답을 입력해주세요\")\n",
    "#     s,b = strike_ball(player, answer)\n",
    "#     history, result = add_history(history, result, player, s, b)\n",
    "#     if judge(s,b) == 1:\n",
    "#         break\n",
    "#     print(\"지금까지의 기록입니다 : \", history, result)\n",
    "#     print(\"-\"*50)\n",
    "    \n",
    "#     def show(self):\n",
    "#         inning_prompt = f\"{i} 번째 이닝입니다({i}/9)\".format(self.__inning)\n",
    "#         pass\n",
    "\n",
    "Baseball(make_answer, strike_ball, judge, add_history)"
   ]
  },
  {
   "cell_type": "code",
   "execution_count": 30,
   "id": "2b8e4da5-2ad4-42ad-bd35-3e975de228a8",
   "metadata": {
    "error_code": "from ipywidgets import Image\n\nfrom ipycanvas import Canvas\n\nsprite1 = Image.from_file(\"sprites/smoke_texture0.png\")\nsprite2 = Image.from_file(\"sprites/smoke_texture1.png\")\n\ncanvas = Canvas(width=300, height=300)\n\ncanvas.fill_style = \"#a9cafc\"\ncanvas.fill_rect(0, 0, 300, 300)\n\ncanvas.draw_image(sprite1, 50, 50)\ncanvas.draw_image(sprite2, 100, 100)\n\ncanvas",
    "tags": []
   },
   "outputs": [
    {
     "data": {
      "application/vnd.jupyter.widget-view+json": {
       "model_id": "3e5410fae2274f31957702f7eaad2df1",
       "version_major": 2,
       "version_minor": 0
      },
      "text/plain": [
       "Canvas(height=1080, width=1920)"
      ]
     },
     "execution_count": 30,
     "metadata": {},
     "output_type": "execute_result"
    }
   ],
   "source": [
    "from ipywidgets import Image\n",
    "\n",
    "from ipycanvas import Canvas\n",
    "\n",
    "sprite1 = Image.from_file(\"baseball.gif\")\n",
    "canvas = Canvas(width=1920, height=1080)\n",
    "\n",
    "canvas.fill_style = \"#a9cafc\"\n",
    "canvas.fill_rect(0, 0, 300, 300)\n",
    "\n",
    "canvas.draw_image(sprite1, 0,0)\n",
    "\n",
    "canvas"
   ]
  }
 ],
 "metadata": {
  "kernelspec": {
   "display_name": "Python 3 (ipykernel)",
   "language": "python",
   "name": "python3"
  },
  "language_info": {
   "codemirror_mode": {
    "name": "ipython",
    "version": 3
   },
   "file_extension": ".py",
   "mimetype": "text/x-python",
   "name": "python",
   "nbconvert_exporter": "python",
   "pygments_lexer": "ipython3",
   "version": "3.10.12"
  }
 },
 "nbformat": 4,
 "nbformat_minor": 5
}
