{
 "cells": [
  {
   "cell_type": "markdown",
   "id": "2d8dd860-f8a8-4819-901a-4b8415fc85f2",
   "metadata": {
    "tags": []
   },
   "source": [
    "<div style=\"padding: 15px; border: 5px solid transparent; border-color: transparent; margin-bottom: 20px; border-radius: 4px; color: #3c763d; background-color: #dff0d8; border-color: #d6e9c6; font-weight: bold;\">\n",
    "    <br><br>\n",
    "    <div style=\"font-weight: bold; font-size: 40px\">파이썬으로 배우는 알고리즘 심화교실</div>\n",
    "    <div style=\"font-weight: bold; font-size: 20px\">(8) 코드 정리하기 : 함수의 사용</div>\n",
    "    <hr style=\"width:80%;text-align:left;margin-left:0;border:0.5px solid green\">\n",
    "    <br>\n",
    "    &#x2022; 파이썬의 함수에 대해 이해하고 함수를 직점 만들고 사용할 수 있다.<br>\n",
    "    &#x2022; 매개변수에 대해 이해한다.<br>\n",
    "    &#x2022; 숫자 야구 게임을 완성한다.<br>\n",
    "</div>"
   ]
  },
  {
   "cell_type": "markdown",
   "id": "4967dba1-9a95-4640-baa8-2fa4484ab385",
   "metadata": {
    "tags": []
   },
   "source": [
    "<div style=\"padding: 15px; border: 5px solid transparent; border-color: transparent; margin-bottom: 20px; border-radius: 4px; color: #3c763d; border-color: #d6e9c6; font-weight: bold;\">\n",
    "<h2 style='font-weight: bold'>1. 함수 만들기</h2>\n",
    "</div> "
   ]
  },
  {
   "cell_type": "markdown",
   "id": "5bfe3213-508d-4ac2-80cc-ceb84e183b00",
   "metadata": {},
   "source": [
    "<div style=\"padding: 15px; border: 5px solid transparent; border-color: transparent; margin-bottom: 20px; border-radius: 4px; color: #8a6d3b;  border-color: #faebcc;\">\n",
    "    <div style=\"font-weight: bold; font-size: 20px\">💯 연습문제를 풀어봅시다</div>\n",
    "    <br>\n",
    "\n",
    "</div>"
   ]
  },
  {
   "cell_type": "markdown",
   "id": "f6b3356c-a8cd-4a73-b3ef-8ad8f514264e",
   "metadata": {
    "tags": []
   },
   "source": [
    "<div style=\"padding: 15px; border: 5px solid transparent; border-color: transparent; margin-bottom: 20px; border-radius: 4px; color: #3c763d; border-color: #d6e9c6; font-weight: bold;\">\n",
    "<h2 style='font-weight: bold'>2. 함수 사용하기</h2>\n",
    "</div> "
   ]
  },
  {
   "cell_type": "markdown",
   "id": "b98700b0-2597-4722-9934-c8df9328e734",
   "metadata": {},
   "source": [
    "<div style=\"padding: 15px; border: 5px solid transparent; border-color: transparent; margin-bottom: 20px; border-radius: 4px; color: #8a6d3b;  border-color: #faebcc;\">\n",
    "    <div style=\"font-weight: bold; font-size: 20px\">💯 연습문제를 풀어봅시다</div>\n",
    "    <br>\n",
    "\n",
    "</div>"
   ]
  },
  {
   "cell_type": "markdown",
   "id": "71433973-fb20-4776-bce0-8e50cbc86601",
   "metadata": {
    "tags": []
   },
   "source": [
    "<div style=\"padding: 15px; border: 5px solid transparent; border-color: transparent; margin-bottom: 20px; border-radius: 4px; color: #3c763d; border-color: #d6e9c6; font-weight: bold;\">\n",
    "<h2 style='font-weight: bold'>프로젝트</h2>\n",
    "숫자 야구 게임을 완성해봅시다.\n",
    "</div> "
   ]
  },
  {
   "cell_type": "code",
   "execution_count": 1,
   "id": "e530f858-d24f-4090-a6da-a8c642e3198f",
   "metadata": {
    "tags": []
   },
   "outputs": [],
   "source": [
    "import random\n",
    "\n",
    "# 정답 생성 함수\n",
    "def make_answer():\n",
    "    while True:\n",
    "        answer = random.randint(100,999)\n",
    "        answer = str(answer)\n",
    "        if answer[0] != answer[1] and answer[0] != answer[2] and answer[1] != answer[2]:\n",
    "            return answer"
   ]
  },
  {
   "cell_type": "code",
   "execution_count": 2,
   "id": "c719ec7d-723a-4a18-945e-01e67192e775",
   "metadata": {
    "tags": []
   },
   "outputs": [],
   "source": [
    "# 볼, 스트라이크 판별 함수\n",
    "def strike_ball(player, answer):\n",
    "    s = 0\n",
    "    b = 0\n",
    "    for j in range(len(player)):\n",
    "        if player[j] == answer[j]:\n",
    "            s += 1\n",
    "        elif player[j] in answer:\n",
    "            b += 1\n",
    "    return s, b"
   ]
  },
  {
   "cell_type": "code",
   "execution_count": 3,
   "id": "5b6d0458-bb36-4f70-8fb2-6328edf06913",
   "metadata": {
    "tags": []
   },
   "outputs": [],
   "source": [
    "# 정답 판정 함수\n",
    "def judge(s, b):\n",
    "    if s == 3:\n",
    "        return True\n",
    "    else:\n",
    "        return False"
   ]
  },
  {
   "cell_type": "code",
   "execution_count": 4,
   "id": "4e36fb17-a1b3-4d63-9122-9f73309aab88",
   "metadata": {
    "tags": []
   },
   "outputs": [],
   "source": [
    "# 기록 추가 함수\n",
    "def add_history(history, result, player, s,b):\n",
    "    history.append(player)\n",
    "    result.append([s,b])\n",
    "    return history, result"
   ]
  },
  {
   "cell_type": "code",
   "execution_count": null,
   "id": "a1eb6db7-3e5b-4a71-93c7-0bd033e6a076",
   "metadata": {
    "error_code": "answer = make_answer()\n\nhistory = []\nresult = []\n\nfor i in range(9):\n    print(i, \"번째 이닝입니다.(\",i,\"/9)\")\n    player = input(\"정답을 입력해주세요\")\n    s,b = strike_ball(player, answer)\n    history, result = add_history(history, result, player, s, b)\n    if judge(s,b) == 1:\n        break\n    print(\"지금까지의 기록입니다 : \", history, result)\n    print(\"-\"*50)",
    "tags": []
   },
   "outputs": [],
   "source": [
    "answer = make_answer()\n",
    "\n",
    "history = []\n",
    "result = []\n",
    "\n",
    "for i in range(9):\n",
    "    print(i, \"번째 이닝입니다.(\",i,\"/9)\")\n",
    "    player = input(\"정답을 입력해주세요\")\n",
    "    s,b = strike_ball(player, answer)\n",
    "    history, result = add_history(history, result, player, s, b)\n",
    "    if judge(s,b) == 1:\n",
    "        break\n",
    "    print(\"지금까지의 기록입니다 : \", history, result)\n",
    "    print(\"-\"*50)"
   ]
  },
  {
   "cell_type": "code",
   "execution_count": 6,
   "id": "1ec2d98b-fab6-4d23-9028-2c3f1e068152",
   "metadata": {
    "error_code": "Baseball(make_answer, strike_ball, judge, add_history)",
    "tags": []
   },
   "outputs": [
    {
     "data": {
      "application/vnd.jupyter.widget-view+json": {
       "model_id": "5e11cb266c6847d7b5a9cfe9fd27a66b",
       "version_major": 2,
       "version_minor": 0
      },
      "text/plain": [
       "Button(description='PLAY', style=ButtonStyle(), tooltip='PLAY')"
      ]
     },
     "metadata": {},
     "output_type": "display_data"
    },
    {
     "data": {
      "application/vnd.jupyter.widget-view+json": {
       "model_id": "9c8a630451ea4cd5bcc2d3fd6d3a41a4",
       "version_major": 2,
       "version_minor": 0
      },
      "text/plain": [
       "BoundedIntText(value=0, description='정답 입력:', max=999)"
      ]
     },
     "metadata": {},
     "output_type": "display_data"
    },
    {
     "data": {
      "application/vnd.jupyter.widget-view+json": {
       "model_id": "1011166e07e3452095688afff4b1b77e",
       "version_major": 2,
       "version_minor": 0
      },
      "text/plain": [
       "Canvas(height=720, width=1280)"
      ]
     },
     "metadata": {},
     "output_type": "display_data"
    },
    {
     "data": {
      "application/vnd.jupyter.widget-view+json": {
       "model_id": "2f65e6d91836421a9a99287428b0be5d",
       "version_major": 2,
       "version_minor": 0
      },
      "text/plain": [
       "Output()"
      ]
     },
     "metadata": {},
     "output_type": "display_data"
    },
    {
     "data": {
      "text/plain": [
       "<CodleBaseBall.Baseball at 0x7f1b8ec91180>"
      ]
     },
     "execution_count": 6,
     "metadata": {},
     "output_type": "execute_result"
    }
   ],
   "source": [
    "from CodleBaseBall import Baseball\n",
    "\n",
    "Baseball(make_answer, strike_ball, judge, add_history)"
   ]
  }
 ],
 "metadata": {
  "kernelspec": {
   "display_name": "Python 3 (ipykernel)",
   "language": "python",
   "name": "python3"
  },
  "language_info": {
   "codemirror_mode": {
    "name": "ipython",
    "version": 3
   },
   "file_extension": ".py",
   "mimetype": "text/x-python",
   "name": "python",
   "nbconvert_exporter": "python",
   "pygments_lexer": "ipython3",
   "version": "3.10.12"
  }
 },
 "nbformat": 4,
 "nbformat_minor": 5
}
